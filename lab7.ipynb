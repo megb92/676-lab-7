{
 "cells": [
  {
   "cell_type": "markdown",
   "metadata": {},
   "source": [
    "676 Lab 7"
   ]
  },
  {
   "cell_type": "code",
   "execution_count": 33,
   "metadata": {},
   "outputs": [],
   "source": [
    "import os.path\n",
    "import re\n",
    "from lxml import etree\n",
    "import xml.etree.ElementTree as ET"
   ]
  },
  {
   "cell_type": "code",
   "execution_count": 34,
   "metadata": {},
   "outputs": [
    {
     "name": "stdout",
     "output_type": "stream",
     "text": [
      "25\n"
     ]
    }
   ],
   "source": [
    "# 1. Count of MODS records = 25\n",
    "MODS_25_collection = os.path.join('data','xml','2018_lcwa_MODS_25.xml')\n",
    "\n",
    "ns = {\n",
    " 'mods':'http://www.loc.gov/mods/v3'\n",
    "}\n",
    "\n",
    "xml_collection = etree.parse(MODS_25_collection)\n",
    "mods = xml_collection.getroot()\n",
    "\n",
    "count = 0\n",
    "for mods in mods.findall('mods:mods', namespaces=ns):\n",
    "    count += 1\n",
    "    #print(mods.tag, mods.attrib)\n",
    "print(count)"
   ]
  },
  {
   "cell_type": "code",
   "execution_count": 35,
   "metadata": {},
   "outputs": [
    {
     "name": "stdout",
     "output_type": "stream",
     "text": [
      "\n",
      "            \n",
      "Animals\n",
      "Pictorial works\n",
      "\n",
      "            \n",
      "Memes\n",
      "\n",
      "            \n",
      "Memes\n",
      "\n",
      "            \n",
      "Memes\n",
      "\n",
      "            \n",
      "Web portals\n",
      "Political candidates\n",
      "United States\n",
      "Elections\n",
      "United States\n",
      "Politics and government\n",
      "United States\n",
      "\n",
      "                        \n",
      "Kansas\n",
      "Political candidates\n",
      "United States\n",
      "Elections\n",
      "United States\n",
      "Politics and government\n",
      "United States\n",
      "\n",
      "                        \n",
      "Oklahoma\n",
      "Political candidates\n",
      "United States\n",
      "Elections\n",
      "United States\n",
      "Politics and government\n",
      "United States\n",
      "\n",
      "                        \n",
      "Tennessee\n",
      "Political candidates\n",
      "United States\n",
      "Elections\n",
      "United States\n",
      "Politics and government\n",
      "United States\n",
      "\n",
      "                        \n",
      "Tennessee\n",
      "Political candidates\n",
      "United States\n",
      "Elections\n",
      "United States\n",
      "Politics and government\n",
      "United States\n",
      "\n",
      "                        \n",
      "Kansas\n"
     ]
    }
   ],
   "source": [
    "# 2. find <subject> tags with authority='lcsh' attribute\n",
    "\n",
    "xml_collection = etree.parse(MODS_25_collection)\n",
    "mods = xml_collection.getroot()\n",
    "\n",
    "for subject in mods.findall('.//mods:subject[@authority=\"lcsh\"]', namespaces=ns):\n",
    "    element = subject\n",
    "    for tag in element:\n",
    "        print(tag.text)"
   ]
  },
  {
   "cell_type": "code",
   "execution_count": 37,
   "metadata": {},
   "outputs": [
    {
     "name": "stdout",
     "output_type": "stream",
     "text": [
      "{http://www.loc.gov/mods/v3}identifier lcwaN0010234 {'type': 'local_call_number', 'updated': 'true', 'date_of_update': '2022-10-21'}\n",
      "{http://www.loc.gov/mods/v3}identifier lcwaN0001999 {'type': 'local_call_number', 'updated': 'true', 'date_of_update': '2022-10-21'}\n",
      "{http://www.loc.gov/mods/v3}identifier lcwaN0003238 {'type': 'local_call_number', 'updated': 'true', 'date_of_update': '2022-10-21'}\n",
      "{http://www.loc.gov/mods/v3}identifier lcwaN0010144 {'type': 'local_call_number', 'updated': 'true', 'date_of_update': '2022-10-21'}\n",
      "{http://www.loc.gov/mods/v3}identifier lcwaN0010145 {'type': 'local_call_number', 'updated': 'true', 'date_of_update': '2022-10-21'}\n",
      "{http://www.loc.gov/mods/v3}identifier lcwaN0012178 {'type': 'local_call_number', 'updated': 'true', 'date_of_update': '2022-10-21'}\n",
      "{http://www.loc.gov/mods/v3}identifier lcwaN0012179 {'type': 'local_call_number', 'updated': 'true', 'date_of_update': '2022-10-21'}\n",
      "{http://www.loc.gov/mods/v3}identifier lcwaN0012180 {'type': 'local_call_number', 'updated': 'true', 'date_of_update': '2022-10-21'}\n",
      "{http://www.loc.gov/mods/v3}identifier lcwaN0012184 {'type': 'local_call_number', 'updated': 'true', 'date_of_update': '2022-10-21'}\n",
      "{http://www.loc.gov/mods/v3}identifier lcwaN0012195 {'type': 'local_call_number', 'updated': 'true', 'date_of_update': '2022-10-21'}\n",
      "{http://www.loc.gov/mods/v3}identifier lcwaN0010932 {'type': 'local_call_number', 'updated': 'true', 'date_of_update': '2022-10-21'}\n",
      "{http://www.loc.gov/mods/v3}identifier lcwaN0010933 {'type': 'local_call_number', 'updated': 'true', 'date_of_update': '2022-10-21'}\n",
      "{http://www.loc.gov/mods/v3}identifier lcwaN0010936 {'type': 'local_call_number', 'updated': 'true', 'date_of_update': '2022-10-21'}\n",
      "{http://www.loc.gov/mods/v3}identifier lcwaN0010937 {'type': 'local_call_number', 'updated': 'true', 'date_of_update': '2022-10-21'}\n",
      "{http://www.loc.gov/mods/v3}identifier lcwaN0010940 {'type': 'local_call_number', 'updated': 'true', 'date_of_update': '2022-10-21'}\n",
      "{http://www.loc.gov/mods/v3}identifier lcwaN0010888 {'type': 'local_call_number', 'updated': 'true', 'date_of_update': '2022-10-21'}\n",
      "{http://www.loc.gov/mods/v3}identifier lcwaN0010226 {'type': 'local_call_number', 'updated': 'true', 'date_of_update': '2022-10-21'}\n",
      "{http://www.loc.gov/mods/v3}identifier lcwaN0009692 {'type': 'local_call_number', 'updated': 'true', 'date_of_update': '2022-10-21'}\n",
      "{http://www.loc.gov/mods/v3}identifier lcwaN0009700 {'type': 'local_call_number', 'updated': 'true', 'date_of_update': '2022-10-21'}\n",
      "{http://www.loc.gov/mods/v3}identifier lcwaN0010401 {'type': 'local_call_number', 'updated': 'true', 'date_of_update': '2022-10-21'}\n",
      "{http://www.loc.gov/mods/v3}identifier lcwaE0008846 {'type': 'local_call_number', 'updated': 'true', 'date_of_update': '2022-10-21'}\n",
      "{http://www.loc.gov/mods/v3}identifier lcwaE0008263 {'type': 'local_call_number', 'updated': 'true', 'date_of_update': '2022-10-21'}\n",
      "{http://www.loc.gov/mods/v3}identifier lcwaE0008338 {'type': 'local_call_number', 'updated': 'true', 'date_of_update': '2022-10-21'}\n",
      "{http://www.loc.gov/mods/v3}identifier lcwaE0008918 {'type': 'local_call_number', 'updated': 'true', 'date_of_update': '2022-10-21'}\n",
      "{http://www.loc.gov/mods/v3}identifier lcwaE0008001 {'type': 'local_call_number', 'updated': 'true', 'date_of_update': '2022-10-21'}\n"
     ]
    }
   ],
   "source": [
    "# 3-4. Find local call numbers, check format, add attributes (type, updated, date)\n",
    "\n",
    "call_num_pattern = re.compile(r'[a-z]{4}[A-Z]{1}\\d{7}')\n",
    "\n",
    "xml_collection = etree.parse(MODS_25_collection)\n",
    "mods = xml_collection.getroot()\n",
    "\n",
    "for mod in mods:\n",
    "    for identifier in mod.findall('.//mods:identifier', namespaces=ns):\n",
    "        #print(identifier.text)\n",
    "        if re.match(call_num_pattern, identifier.text):\n",
    "            #print(identifier.tag, identifier.text, identifier.attrib)\n",
    "            identifier.set('type', 'local_call_number') #printing more data\n",
    "            identifier.set('updated', 'true')\n",
    "            identifier.set('date_of_update', '2022-10-21')\n",
    "            print(identifier.tag, identifier.text, identifier.attrib)\n",
    "\n",
    "# 5. write to new file\n",
    "\n",
    "new_file_name = \"2018_lcwa_MODS_25_lxmlupdate.xml\"\n",
    "xml_collection.write(new_file_name, xml_declaration=True, encoding='utf-8', method='xml')"
   ]
  }
 ],
 "metadata": {
  "kernelspec": {
   "display_name": "Python 3.9.5 64-bit",
   "language": "python",
   "name": "python3"
  },
  "language_info": {
   "codemirror_mode": {
    "name": "ipython",
    "version": 3
   },
   "file_extension": ".py",
   "mimetype": "text/x-python",
   "name": "python",
   "nbconvert_exporter": "python",
   "pygments_lexer": "ipython3",
   "version": "3.9.5"
  },
  "orig_nbformat": 4,
  "vscode": {
   "interpreter": {
    "hash": "42a0c6e04765a0e5c81efcf8de597dc7486eb0428d13934cc701f61f453231d6"
   }
  }
 },
 "nbformat": 4,
 "nbformat_minor": 2
}
